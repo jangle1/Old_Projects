{
 "cells": [
  {
   "cell_type": "markdown",
   "id": "7695e5be",
   "metadata": {},
   "source": [
    "inspiration: How do weather conditions affect marathon running performance in Berlin marathons?"
   ]
  },
  {
   "cell_type": "code",
   "execution_count": 1,
   "id": "ee67439a",
   "metadata": {},
   "outputs": [],
   "source": [
    "import numpy as np\n",
    "import pandas as pd\n",
    "import seaborn as sns\n",
    "import matplotlib.pyplot as plt\n",
    "import sklearn\n",
    "import os\n",
    "import datetime as dt\n",
    "from datetime import timedelta\n",
    "from datetime import datetime"
   ]
  },
  {
   "cell_type": "markdown",
   "id": "58111cfb",
   "metadata": {},
   "source": [
    "# runners data prep"
   ]
  },
  {
   "cell_type": "code",
   "execution_count": 2,
   "id": "86e3f8e3",
   "metadata": {
    "scrolled": true
   },
   "outputs": [],
   "source": [
    "runners = pd.read_csv('C:\\\\Users\\\\janek\\\\Desktop\\\\ML\\\\Projekty\\\\Projekt analiza biegu\\\\Berlin_Marathon_data_1974_2019.csv',low_memory=False)"
   ]
  },
  {
   "cell_type": "code",
   "execution_count": 3,
   "id": "2e8a62c1",
   "metadata": {},
   "outputs": [
    {
     "data": {
      "text/html": [
       "<div>\n",
       "<style scoped>\n",
       "    .dataframe tbody tr th:only-of-type {\n",
       "        vertical-align: middle;\n",
       "    }\n",
       "\n",
       "    .dataframe tbody tr th {\n",
       "        vertical-align: top;\n",
       "    }\n",
       "\n",
       "    .dataframe thead th {\n",
       "        text-align: right;\n",
       "    }\n",
       "</style>\n",
       "<table border=\"1\" class=\"dataframe\">\n",
       "  <thead>\n",
       "    <tr style=\"text-align: right;\">\n",
       "      <th></th>\n",
       "      <th>YEAR</th>\n",
       "      <th>COUNTRY</th>\n",
       "      <th>GENDER</th>\n",
       "      <th>AGE</th>\n",
       "      <th>TIME</th>\n",
       "    </tr>\n",
       "  </thead>\n",
       "  <tbody>\n",
       "    <tr>\n",
       "      <th>0</th>\n",
       "      <td>1974</td>\n",
       "      <td>NaN</td>\n",
       "      <td>male</td>\n",
       "      <td>L1</td>\n",
       "      <td>02:44:53</td>\n",
       "    </tr>\n",
       "    <tr>\n",
       "      <th>1</th>\n",
       "      <td>1974</td>\n",
       "      <td>NaN</td>\n",
       "      <td>male</td>\n",
       "      <td>L2</td>\n",
       "      <td>02:46:43</td>\n",
       "    </tr>\n",
       "    <tr>\n",
       "      <th>2</th>\n",
       "      <td>1974</td>\n",
       "      <td>NaN</td>\n",
       "      <td>male</td>\n",
       "      <td>L2</td>\n",
       "      <td>02:48:08</td>\n",
       "    </tr>\n",
       "    <tr>\n",
       "      <th>3</th>\n",
       "      <td>1974</td>\n",
       "      <td>NaN</td>\n",
       "      <td>male</td>\n",
       "      <td>L</td>\n",
       "      <td>02:48:40</td>\n",
       "    </tr>\n",
       "    <tr>\n",
       "      <th>4</th>\n",
       "      <td>1974</td>\n",
       "      <td>NaN</td>\n",
       "      <td>male</td>\n",
       "      <td>L1</td>\n",
       "      <td>02:49:01</td>\n",
       "    </tr>\n",
       "  </tbody>\n",
       "</table>\n",
       "</div>"
      ],
      "text/plain": [
       "   YEAR COUNTRY GENDER AGE      TIME\n",
       "0  1974     NaN   male  L1  02:44:53\n",
       "1  1974     NaN   male  L2  02:46:43\n",
       "2  1974     NaN   male  L2  02:48:08\n",
       "3  1974     NaN   male   L  02:48:40\n",
       "4  1974     NaN   male  L1  02:49:01"
      ]
     },
     "execution_count": 3,
     "metadata": {},
     "output_type": "execute_result"
    }
   ],
   "source": [
    "runners.head()"
   ]
  },
  {
   "cell_type": "code",
   "execution_count": 4,
   "id": "2afbbafe",
   "metadata": {
    "scrolled": true
   },
   "outputs": [
    {
     "name": "stdout",
     "output_type": "stream",
     "text": [
      "<class 'pandas.core.frame.DataFrame'>\n",
      "RangeIndex: 884944 entries, 0 to 884943\n",
      "Data columns (total 5 columns):\n",
      " #   Column   Non-Null Count   Dtype \n",
      "---  ------   --------------   ----- \n",
      " 0   YEAR     884944 non-null  int64 \n",
      " 1   COUNTRY  30796 non-null   object\n",
      " 2   GENDER   884944 non-null  object\n",
      " 3   AGE      872106 non-null  object\n",
      " 4   TIME     884944 non-null  object\n",
      "dtypes: int64(1), object(4)\n",
      "memory usage: 33.8+ MB\n"
     ]
    }
   ],
   "source": [
    "runners.info()"
   ]
  },
  {
   "cell_type": "code",
   "execution_count": 5,
   "id": "1705650e",
   "metadata": {},
   "outputs": [
    {
     "data": {
      "text/plain": [
       "YEAR            0\n",
       "COUNTRY    854148\n",
       "GENDER          0\n",
       "AGE         12838\n",
       "TIME            0\n",
       "dtype: int64"
      ]
     },
     "execution_count": 5,
     "metadata": {},
     "output_type": "execute_result"
    }
   ],
   "source": [
    "runners.isnull().sum()"
   ]
  },
  {
   "cell_type": "code",
   "execution_count": 6,
   "id": "81f8ca04",
   "metadata": {},
   "outputs": [
    {
     "data": {
      "text/plain": [
       "(884944, 5)"
      ]
     },
     "execution_count": 6,
     "metadata": {},
     "output_type": "execute_result"
    }
   ],
   "source": [
    "runners.shape"
   ]
  },
  {
   "cell_type": "markdown",
   "id": "b4e07387",
   "metadata": {},
   "source": [
    "There are 884944 rows in general and 884944 country infos are missing, so it means only 3,5% of Countries data is not null."
   ]
  },
  {
   "cell_type": "code",
   "execution_count": 7,
   "id": "65810a83",
   "metadata": {},
   "outputs": [
    {
     "data": {
      "text/plain": [
       "GER    11005\n",
       "USA     2232\n",
       "GBR     2013\n",
       "FRA     1111\n",
       "ITA      983\n",
       "       ...  \n",
       "GHA        1\n",
       "TAN        1\n",
       "CMR        1\n",
       "LAO        1\n",
       "NGR        1\n",
       "Name: COUNTRY, Length: 145, dtype: int64"
      ]
     },
     "execution_count": 7,
     "metadata": {},
     "output_type": "execute_result"
    }
   ],
   "source": [
    "runners['COUNTRY'].value_counts()"
   ]
  },
  {
   "cell_type": "code",
   "execution_count": 8,
   "id": "c9be44fb",
   "metadata": {},
   "outputs": [
    {
     "data": {
      "text/plain": [
       "0.9652000578567683"
      ]
     },
     "execution_count": 8,
     "metadata": {},
     "output_type": "execute_result"
    }
   ],
   "source": [
    "854148/884944 #almost 97% of runners have no country assigned "
   ]
  },
  {
   "cell_type": "code",
   "execution_count": 9,
   "id": "e6165911",
   "metadata": {},
   "outputs": [],
   "source": [
    "runners = runners.drop(['COUNTRY'], axis=1) #deleting COUNTRY column"
   ]
  },
  {
   "cell_type": "code",
   "execution_count": 10,
   "id": "dcb726ac",
   "metadata": {
    "scrolled": true
   },
   "outputs": [
    {
     "data": {
      "text/plain": [
       "40     161743\n",
       "35     144947\n",
       "45     140503\n",
       "20     120618\n",
       "30     120124\n",
       "50      96323\n",
       "55      47585\n",
       "60      22123\n",
       "65       8319\n",
       "18       5603\n",
       "70       2564\n",
       "75        621\n",
       "A         235\n",
       "L1        152\n",
       "L         131\n",
       "80        110\n",
       "L2        106\n",
       "B          56\n",
       "M          50\n",
       "M0         50\n",
       "BM         39\n",
       "L3         31\n",
       "L4         16\n",
       "DH         15\n",
       "C          15\n",
       "DA          8\n",
       "D3          5\n",
       "D2          5\n",
       "D1          4\n",
       "DB          2\n",
       "Ber         1\n",
       "DJ          1\n",
       "M<          1\n",
       "Name: AGE, dtype: int64"
      ]
     },
     "execution_count": 10,
     "metadata": {},
     "output_type": "execute_result"
    }
   ],
   "source": [
    "runners['AGE'].value_counts() #investigating age column"
   ]
  },
  {
   "cell_type": "markdown",
   "id": "264e0107",
   "metadata": {},
   "source": [
    "Deleting non understandable signs in age column"
   ]
  },
  {
   "cell_type": "code",
   "execution_count": 11,
   "id": "8557fc40",
   "metadata": {},
   "outputs": [],
   "source": [
    "runners = runners[runners.AGE != \"A\"]\n",
    "runners = runners[runners.AGE != \"L1\"]\n",
    "runners = runners[runners.AGE != \"L\"]\n",
    "runners = runners[runners.AGE != \"L2\"]\n",
    "runners = runners[runners.AGE != \"B\"]\n",
    "runners = runners[runners.AGE != \"M\"]\n",
    "runners = runners[runners.AGE != \"M0\"]\n",
    "runners = runners[runners.AGE != \"BM\"]\n",
    "runners = runners[runners.AGE != \"L3\"]\n",
    "runners = runners[runners.AGE != \"L4\"]\n",
    "runners = runners[runners.AGE != \"DH\"]\n",
    "runners = runners[runners.AGE != \"C\"]\n",
    "runners = runners[runners.AGE != \"DA\"]\n",
    "runners = runners[runners.AGE != \"D3\"]\n",
    "runners = runners[runners.AGE != \"D2\"]\n",
    "runners = runners[runners.AGE != \"D1\"]\n",
    "runners = runners[runners.AGE != \"DB\"]\n",
    "runners = runners[runners.AGE != \"Ber\"]\n",
    "runners = runners[runners.AGE != \"DJ\"]\n",
    "runners = runners[runners.AGE != \"M<\"]"
   ]
  },
  {
   "cell_type": "code",
   "execution_count": 12,
   "id": "3807c8aa",
   "metadata": {},
   "outputs": [
    {
     "data": {
      "text/plain": [
       "40    161743\n",
       "35    144947\n",
       "45    140503\n",
       "20    120618\n",
       "30    120124\n",
       "50     96323\n",
       "55     47585\n",
       "60     22123\n",
       "65      8319\n",
       "18      5603\n",
       "70      2564\n",
       "75       621\n",
       "80       110\n",
       "Name: AGE, dtype: int64"
      ]
     },
     "execution_count": 12,
     "metadata": {},
     "output_type": "execute_result"
    }
   ],
   "source": [
    "runners['AGE'].value_counts() #age column value counts after deleting non-integer-like values"
   ]
  },
  {
   "cell_type": "code",
   "execution_count": 13,
   "id": "9a0d8e9f",
   "metadata": {},
   "outputs": [
    {
     "data": {
      "text/plain": [
       "12838"
      ]
     },
     "execution_count": 13,
     "metadata": {},
     "output_type": "execute_result"
    }
   ],
   "source": [
    "runners['AGE'].isnull().sum()"
   ]
  },
  {
   "cell_type": "code",
   "execution_count": 14,
   "id": "cce9f923",
   "metadata": {},
   "outputs": [],
   "source": [
    "runners['AGE'] = runners['AGE'].fillna('40') #filling blank rows with dominant value"
   ]
  },
  {
   "cell_type": "code",
   "execution_count": 15,
   "id": "e03ea348",
   "metadata": {},
   "outputs": [],
   "source": [
    "runners['AGE'] = runners['AGE'].astype(int) #converting age column values to integers"
   ]
  },
  {
   "cell_type": "code",
   "execution_count": 16,
   "id": "7ac653ca",
   "metadata": {},
   "outputs": [
    {
     "data": {
      "text/html": [
       "<div>\n",
       "<style scoped>\n",
       "    .dataframe tbody tr th:only-of-type {\n",
       "        vertical-align: middle;\n",
       "    }\n",
       "\n",
       "    .dataframe tbody tr th {\n",
       "        vertical-align: top;\n",
       "    }\n",
       "\n",
       "    .dataframe thead th {\n",
       "        text-align: right;\n",
       "    }\n",
       "</style>\n",
       "<table border=\"1\" class=\"dataframe\">\n",
       "  <thead>\n",
       "    <tr style=\"text-align: right;\">\n",
       "      <th></th>\n",
       "      <th>YEAR</th>\n",
       "      <th>GENDER</th>\n",
       "      <th>AGE</th>\n",
       "      <th>TIME</th>\n",
       "    </tr>\n",
       "  </thead>\n",
       "  <tbody>\n",
       "    <tr>\n",
       "      <th>226498</th>\n",
       "      <td>1999</td>\n",
       "      <td>male</td>\n",
       "      <td>20</td>\n",
       "      <td>03:43:48</td>\n",
       "    </tr>\n",
       "    <tr>\n",
       "      <th>735687</th>\n",
       "      <td>2015</td>\n",
       "      <td>female</td>\n",
       "      <td>40</td>\n",
       "      <td>05:17:44</td>\n",
       "    </tr>\n",
       "    <tr>\n",
       "      <th>95868</th>\n",
       "      <td>1990</td>\n",
       "      <td>male</td>\n",
       "      <td>40</td>\n",
       "      <td>04:02:00</td>\n",
       "    </tr>\n",
       "    <tr>\n",
       "      <th>390440</th>\n",
       "      <td>2005</td>\n",
       "      <td>male</td>\n",
       "      <td>40</td>\n",
       "      <td>04:22:53</td>\n",
       "    </tr>\n",
       "    <tr>\n",
       "      <th>843713</th>\n",
       "      <td>2018</td>\n",
       "      <td>male</td>\n",
       "      <td>50</td>\n",
       "      <td>04:50:18</td>\n",
       "    </tr>\n",
       "  </tbody>\n",
       "</table>\n",
       "</div>"
      ],
      "text/plain": [
       "        YEAR  GENDER  AGE      TIME\n",
       "226498  1999    male   20  03:43:48\n",
       "735687  2015  female   40  05:17:44\n",
       "95868   1990    male   40  04:02:00\n",
       "390440  2005    male   40  04:22:53\n",
       "843713  2018    male   50  04:50:18"
      ]
     },
     "execution_count": 16,
     "metadata": {},
     "output_type": "execute_result"
    }
   ],
   "source": [
    "runners.sample(5)"
   ]
  },
  {
   "cell_type": "code",
   "execution_count": 17,
   "id": "00f7305f",
   "metadata": {},
   "outputs": [
    {
     "data": {
      "text/plain": [
       "YEAR      0\n",
       "GENDER    0\n",
       "AGE       0\n",
       "TIME      0\n",
       "dtype: int64"
      ]
     },
     "execution_count": 17,
     "metadata": {},
     "output_type": "execute_result"
    }
   ],
   "source": [
    "runners.isnull().sum()"
   ]
  },
  {
   "cell_type": "code",
   "execution_count": 18,
   "id": "db5a4e4d",
   "metadata": {},
   "outputs": [
    {
     "name": "stdout",
     "output_type": "stream",
     "text": [
      "<class 'pandas.core.frame.DataFrame'>\n",
      "Int64Index: 884021 entries, 17 to 884943\n",
      "Data columns (total 4 columns):\n",
      " #   Column  Non-Null Count   Dtype \n",
      "---  ------  --------------   ----- \n",
      " 0   YEAR    884021 non-null  int64 \n",
      " 1   GENDER  884021 non-null  object\n",
      " 2   AGE     884021 non-null  int32 \n",
      " 3   TIME    884021 non-null  object\n",
      "dtypes: int32(1), int64(1), object(2)\n",
      "memory usage: 30.4+ MB\n"
     ]
    }
   ],
   "source": [
    "runners.info()"
   ]
  },
  {
   "cell_type": "code",
   "execution_count": 19,
   "id": "2eb817f8",
   "metadata": {},
   "outputs": [],
   "source": [
    "#LabelEncoding GENDER colmn\n",
    "from sklearn.preprocessing import LabelEncoder\n",
    "\n",
    "le = LabelEncoder()\n",
    "\n",
    "runners['GENDER']=le.fit_transform(runners['GENDER'])\n",
    "# 1 = male\n",
    "# 0 = female"
   ]
  },
  {
   "cell_type": "code",
   "execution_count": 20,
   "id": "66c48e1a",
   "metadata": {},
   "outputs": [
    {
     "name": "stdout",
     "output_type": "stream",
     "text": [
      "02:01:39\n",
      "09:49:41\n"
     ]
    }
   ],
   "source": [
    "#converting TIME column into seconds \n",
    "runners = runners[runners['TIME'] != 'no time']\n",
    "runners[runners['TIME'] != 'no time']\n",
    "print(runners['TIME'].min())\n",
    "print(runners['TIME'].max())"
   ]
  },
  {
   "cell_type": "code",
   "execution_count": 21,
   "id": "e1c2434c",
   "metadata": {},
   "outputs": [],
   "source": [
    "def time_to_sec(df):\n",
    "    hours = df.dt.hour\n",
    "    minutes = df.dt.minute\n",
    "    seconds = df.dt.second\n",
    "    return (hours * 3600) + (minutes * 60) + seconds"
   ]
  },
  {
   "cell_type": "code",
   "execution_count": 22,
   "id": "8b35413f",
   "metadata": {},
   "outputs": [
    {
     "data": {
      "text/plain": [
       "17        11107\n",
       "31        11702\n",
       "32        11714\n",
       "33        11740\n",
       "36        11870\n",
       "          ...  \n",
       "884939    25937\n",
       "884940    25950\n",
       "884941    26128\n",
       "884942    26368\n",
       "884943    26769\n",
       "Name: TIME, Length: 881617, dtype: int64"
      ]
     },
     "execution_count": 22,
     "metadata": {},
     "output_type": "execute_result"
    }
   ],
   "source": [
    "runners['TIME'] = pd.to_datetime(runners['TIME'], errors='coerce', format='%H:%M:%S')\n",
    "runners_time_in_sec = time_to_sec(runners['TIME']) #works :)\n",
    "runners_time_in_sec"
   ]
  },
  {
   "cell_type": "code",
   "execution_count": 23,
   "id": "4b250def",
   "metadata": {},
   "outputs": [
    {
     "data": {
      "text/html": [
       "<div>\n",
       "<style scoped>\n",
       "    .dataframe tbody tr th:only-of-type {\n",
       "        vertical-align: middle;\n",
       "    }\n",
       "\n",
       "    .dataframe tbody tr th {\n",
       "        vertical-align: top;\n",
       "    }\n",
       "\n",
       "    .dataframe thead th {\n",
       "        text-align: right;\n",
       "    }\n",
       "</style>\n",
       "<table border=\"1\" class=\"dataframe\">\n",
       "  <thead>\n",
       "    <tr style=\"text-align: right;\">\n",
       "      <th></th>\n",
       "      <th>YEAR</th>\n",
       "      <th>GENDER</th>\n",
       "      <th>AGE</th>\n",
       "      <th>TIME</th>\n",
       "      <th>TIME_IN_SEC</th>\n",
       "    </tr>\n",
       "  </thead>\n",
       "  <tbody>\n",
       "    <tr>\n",
       "      <th>17</th>\n",
       "      <td>1974</td>\n",
       "      <td>1</td>\n",
       "      <td>40</td>\n",
       "      <td>1900-01-01 03:05:07</td>\n",
       "      <td>11107</td>\n",
       "    </tr>\n",
       "    <tr>\n",
       "      <th>31</th>\n",
       "      <td>1974</td>\n",
       "      <td>1</td>\n",
       "      <td>40</td>\n",
       "      <td>1900-01-01 03:15:02</td>\n",
       "      <td>11702</td>\n",
       "    </tr>\n",
       "    <tr>\n",
       "      <th>32</th>\n",
       "      <td>1974</td>\n",
       "      <td>1</td>\n",
       "      <td>40</td>\n",
       "      <td>1900-01-01 03:15:14</td>\n",
       "      <td>11714</td>\n",
       "    </tr>\n",
       "    <tr>\n",
       "      <th>33</th>\n",
       "      <td>1974</td>\n",
       "      <td>1</td>\n",
       "      <td>40</td>\n",
       "      <td>1900-01-01 03:15:40</td>\n",
       "      <td>11740</td>\n",
       "    </tr>\n",
       "    <tr>\n",
       "      <th>36</th>\n",
       "      <td>1974</td>\n",
       "      <td>1</td>\n",
       "      <td>40</td>\n",
       "      <td>1900-01-01 03:17:50</td>\n",
       "      <td>11870</td>\n",
       "    </tr>\n",
       "    <tr>\n",
       "      <th>...</th>\n",
       "      <td>...</td>\n",
       "      <td>...</td>\n",
       "      <td>...</td>\n",
       "      <td>...</td>\n",
       "      <td>...</td>\n",
       "    </tr>\n",
       "    <tr>\n",
       "      <th>884939</th>\n",
       "      <td>2019</td>\n",
       "      <td>1</td>\n",
       "      <td>65</td>\n",
       "      <td>1900-01-01 07:12:17</td>\n",
       "      <td>25937</td>\n",
       "    </tr>\n",
       "    <tr>\n",
       "      <th>884940</th>\n",
       "      <td>2019</td>\n",
       "      <td>1</td>\n",
       "      <td>75</td>\n",
       "      <td>1900-01-01 07:12:30</td>\n",
       "      <td>25950</td>\n",
       "    </tr>\n",
       "    <tr>\n",
       "      <th>884941</th>\n",
       "      <td>2019</td>\n",
       "      <td>1</td>\n",
       "      <td>80</td>\n",
       "      <td>1900-01-01 07:15:28</td>\n",
       "      <td>26128</td>\n",
       "    </tr>\n",
       "    <tr>\n",
       "      <th>884942</th>\n",
       "      <td>2019</td>\n",
       "      <td>1</td>\n",
       "      <td>30</td>\n",
       "      <td>1900-01-01 07:19:28</td>\n",
       "      <td>26368</td>\n",
       "    </tr>\n",
       "    <tr>\n",
       "      <th>884943</th>\n",
       "      <td>2019</td>\n",
       "      <td>1</td>\n",
       "      <td>60</td>\n",
       "      <td>1900-01-01 07:26:09</td>\n",
       "      <td>26769</td>\n",
       "    </tr>\n",
       "  </tbody>\n",
       "</table>\n",
       "<p>881617 rows × 5 columns</p>\n",
       "</div>"
      ],
      "text/plain": [
       "        YEAR  GENDER  AGE                TIME  TIME_IN_SEC\n",
       "17      1974       1   40 1900-01-01 03:05:07        11107\n",
       "31      1974       1   40 1900-01-01 03:15:02        11702\n",
       "32      1974       1   40 1900-01-01 03:15:14        11714\n",
       "33      1974       1   40 1900-01-01 03:15:40        11740\n",
       "36      1974       1   40 1900-01-01 03:17:50        11870\n",
       "...      ...     ...  ...                 ...          ...\n",
       "884939  2019       1   65 1900-01-01 07:12:17        25937\n",
       "884940  2019       1   75 1900-01-01 07:12:30        25950\n",
       "884941  2019       1   80 1900-01-01 07:15:28        26128\n",
       "884942  2019       1   30 1900-01-01 07:19:28        26368\n",
       "884943  2019       1   60 1900-01-01 07:26:09        26769\n",
       "\n",
       "[881617 rows x 5 columns]"
      ]
     },
     "execution_count": 23,
     "metadata": {},
     "output_type": "execute_result"
    }
   ],
   "source": [
    "runners['TIME_IN_SEC'] = runners_time_in_sec\n",
    "runners"
   ]
  },
  {
   "cell_type": "markdown",
   "id": "6df6b06b",
   "metadata": {},
   "source": [
    "# Weather dataset prep"
   ]
  },
  {
   "cell_type": "code",
   "execution_count": 24,
   "id": "0783b142",
   "metadata": {},
   "outputs": [],
   "source": [
    "weather = pd.read_csv(\"C:\\\\Users\\\\janek\\\\Desktop\\\\ML\\\\Projekty\\\\Projekt analiza biegu\\\\Berlin_Marathon_weather_data_since_1974.csv\")"
   ]
  },
  {
   "cell_type": "code",
   "execution_count": 25,
   "id": "4033a663",
   "metadata": {},
   "outputs": [
    {
     "data": {
      "text/html": [
       "<div>\n",
       "<style scoped>\n",
       "    .dataframe tbody tr th:only-of-type {\n",
       "        vertical-align: middle;\n",
       "    }\n",
       "\n",
       "    .dataframe tbody tr th {\n",
       "        vertical-align: top;\n",
       "    }\n",
       "\n",
       "    .dataframe thead th {\n",
       "        text-align: right;\n",
       "    }\n",
       "</style>\n",
       "<table border=\"1\" class=\"dataframe\">\n",
       "  <thead>\n",
       "    <tr style=\"text-align: right;\">\n",
       "      <th></th>\n",
       "      <th>YEAR</th>\n",
       "      <th>PRECIP_mm</th>\n",
       "      <th>SUNSHINE_hrs</th>\n",
       "      <th>CLOUD_hrs</th>\n",
       "      <th>ATMOS_PRESS_mbar</th>\n",
       "      <th>AVG_TEMP_C</th>\n",
       "      <th>MAX_TEMP_C</th>\n",
       "      <th>MIN_TEMP_C</th>\n",
       "    </tr>\n",
       "  </thead>\n",
       "  <tbody>\n",
       "    <tr>\n",
       "      <th>0</th>\n",
       "      <td>1974</td>\n",
       "      <td>0.0</td>\n",
       "      <td>0.2</td>\n",
       "      <td>7.0</td>\n",
       "      <td>1009.5</td>\n",
       "      <td>5.4</td>\n",
       "      <td>8.8</td>\n",
       "      <td>1.1</td>\n",
       "    </tr>\n",
       "    <tr>\n",
       "      <th>1</th>\n",
       "      <td>1975</td>\n",
       "      <td>4.2</td>\n",
       "      <td>9.4</td>\n",
       "      <td>3.0</td>\n",
       "      <td>1011.4</td>\n",
       "      <td>14.3</td>\n",
       "      <td>20.1</td>\n",
       "      <td>9.5</td>\n",
       "    </tr>\n",
       "    <tr>\n",
       "      <th>2</th>\n",
       "      <td>1976</td>\n",
       "      <td>3.0</td>\n",
       "      <td>10.2</td>\n",
       "      <td>3.3</td>\n",
       "      <td>1010.4</td>\n",
       "      <td>12.8</td>\n",
       "      <td>18.0</td>\n",
       "      <td>7.3</td>\n",
       "    </tr>\n",
       "    <tr>\n",
       "      <th>3</th>\n",
       "      <td>1977</td>\n",
       "      <td>11.2</td>\n",
       "      <td>0.0</td>\n",
       "      <td>8.0</td>\n",
       "      <td>1013.1</td>\n",
       "      <td>9.7</td>\n",
       "      <td>12.5</td>\n",
       "      <td>7.4</td>\n",
       "    </tr>\n",
       "    <tr>\n",
       "      <th>4</th>\n",
       "      <td>1978</td>\n",
       "      <td>1.8</td>\n",
       "      <td>2.7</td>\n",
       "      <td>6.0</td>\n",
       "      <td>1000.6</td>\n",
       "      <td>11.2</td>\n",
       "      <td>14.5</td>\n",
       "      <td>9.4</td>\n",
       "    </tr>\n",
       "  </tbody>\n",
       "</table>\n",
       "</div>"
      ],
      "text/plain": [
       "   YEAR  PRECIP_mm  SUNSHINE_hrs  CLOUD_hrs  ATMOS_PRESS_mbar  AVG_TEMP_C  \\\n",
       "0  1974        0.0           0.2        7.0            1009.5         5.4   \n",
       "1  1975        4.2           9.4        3.0            1011.4        14.3   \n",
       "2  1976        3.0          10.2        3.3            1010.4        12.8   \n",
       "3  1977       11.2           0.0        8.0            1013.1         9.7   \n",
       "4  1978        1.8           2.7        6.0            1000.6        11.2   \n",
       "\n",
       "   MAX_TEMP_C  MIN_TEMP_C  \n",
       "0         8.8         1.1  \n",
       "1        20.1         9.5  \n",
       "2        18.0         7.3  \n",
       "3        12.5         7.4  \n",
       "4        14.5         9.4  "
      ]
     },
     "execution_count": 25,
     "metadata": {},
     "output_type": "execute_result"
    }
   ],
   "source": [
    "weather.head()"
   ]
  },
  {
   "cell_type": "code",
   "execution_count": 26,
   "id": "0c4872a6",
   "metadata": {},
   "outputs": [
    {
     "data": {
      "text/html": [
       "<div>\n",
       "<style scoped>\n",
       "    .dataframe tbody tr th:only-of-type {\n",
       "        vertical-align: middle;\n",
       "    }\n",
       "\n",
       "    .dataframe tbody tr th {\n",
       "        vertical-align: top;\n",
       "    }\n",
       "\n",
       "    .dataframe thead th {\n",
       "        text-align: right;\n",
       "    }\n",
       "</style>\n",
       "<table border=\"1\" class=\"dataframe\">\n",
       "  <thead>\n",
       "    <tr style=\"text-align: right;\">\n",
       "      <th></th>\n",
       "      <th>YEAR</th>\n",
       "      <th>PRECIP_mm</th>\n",
       "      <th>SUNSHINE_hrs</th>\n",
       "      <th>CLOUD_hrs</th>\n",
       "      <th>ATMOS_PRESS_mbar</th>\n",
       "      <th>AVG_TEMP_C</th>\n",
       "      <th>MAX_TEMP_C</th>\n",
       "      <th>MIN_TEMP_C</th>\n",
       "    </tr>\n",
       "  </thead>\n",
       "  <tbody>\n",
       "    <tr>\n",
       "      <th>count</th>\n",
       "      <td>46.000000</td>\n",
       "      <td>46.000000</td>\n",
       "      <td>46.000000</td>\n",
       "      <td>46.000000</td>\n",
       "      <td>46.000000</td>\n",
       "      <td>46.000000</td>\n",
       "      <td>46.000000</td>\n",
       "      <td>46.000000</td>\n",
       "    </tr>\n",
       "    <tr>\n",
       "      <th>mean</th>\n",
       "      <td>1996.500000</td>\n",
       "      <td>1.976087</td>\n",
       "      <td>5.628043</td>\n",
       "      <td>4.489130</td>\n",
       "      <td>1009.800435</td>\n",
       "      <td>12.702174</td>\n",
       "      <td>18.019565</td>\n",
       "      <td>8.328261</td>\n",
       "    </tr>\n",
       "    <tr>\n",
       "      <th>std</th>\n",
       "      <td>13.422618</td>\n",
       "      <td>5.007824</td>\n",
       "      <td>4.530383</td>\n",
       "      <td>2.673344</td>\n",
       "      <td>8.017980</td>\n",
       "      <td>2.650659</td>\n",
       "      <td>3.800855</td>\n",
       "      <td>3.095995</td>\n",
       "    </tr>\n",
       "    <tr>\n",
       "      <th>min</th>\n",
       "      <td>1974.000000</td>\n",
       "      <td>0.000000</td>\n",
       "      <td>0.000000</td>\n",
       "      <td>0.100000</td>\n",
       "      <td>993.620000</td>\n",
       "      <td>5.400000</td>\n",
       "      <td>8.800000</td>\n",
       "      <td>1.100000</td>\n",
       "    </tr>\n",
       "    <tr>\n",
       "      <th>25%</th>\n",
       "      <td>1985.250000</td>\n",
       "      <td>0.000000</td>\n",
       "      <td>0.700000</td>\n",
       "      <td>2.000000</td>\n",
       "      <td>1005.375000</td>\n",
       "      <td>10.875000</td>\n",
       "      <td>15.400000</td>\n",
       "      <td>5.550000</td>\n",
       "    </tr>\n",
       "    <tr>\n",
       "      <th>50%</th>\n",
       "      <td>1996.500000</td>\n",
       "      <td>0.000000</td>\n",
       "      <td>6.950000</td>\n",
       "      <td>5.000000</td>\n",
       "      <td>1010.350000</td>\n",
       "      <td>12.750000</td>\n",
       "      <td>17.650000</td>\n",
       "      <td>8.650000</td>\n",
       "    </tr>\n",
       "    <tr>\n",
       "      <th>75%</th>\n",
       "      <td>2007.750000</td>\n",
       "      <td>1.075000</td>\n",
       "      <td>10.050000</td>\n",
       "      <td>7.000000</td>\n",
       "      <td>1014.030000</td>\n",
       "      <td>14.300000</td>\n",
       "      <td>20.250000</td>\n",
       "      <td>10.625000</td>\n",
       "    </tr>\n",
       "    <tr>\n",
       "      <th>max</th>\n",
       "      <td>2019.000000</td>\n",
       "      <td>29.800000</td>\n",
       "      <td>11.400000</td>\n",
       "      <td>8.000000</td>\n",
       "      <td>1026.800000</td>\n",
       "      <td>19.400000</td>\n",
       "      <td>27.600000</td>\n",
       "      <td>14.800000</td>\n",
       "    </tr>\n",
       "  </tbody>\n",
       "</table>\n",
       "</div>"
      ],
      "text/plain": [
       "              YEAR  PRECIP_mm  SUNSHINE_hrs  CLOUD_hrs  ATMOS_PRESS_mbar  \\\n",
       "count    46.000000  46.000000     46.000000  46.000000         46.000000   \n",
       "mean   1996.500000   1.976087      5.628043   4.489130       1009.800435   \n",
       "std      13.422618   5.007824      4.530383   2.673344          8.017980   \n",
       "min    1974.000000   0.000000      0.000000   0.100000        993.620000   \n",
       "25%    1985.250000   0.000000      0.700000   2.000000       1005.375000   \n",
       "50%    1996.500000   0.000000      6.950000   5.000000       1010.350000   \n",
       "75%    2007.750000   1.075000     10.050000   7.000000       1014.030000   \n",
       "max    2019.000000  29.800000     11.400000   8.000000       1026.800000   \n",
       "\n",
       "       AVG_TEMP_C  MAX_TEMP_C  MIN_TEMP_C  \n",
       "count   46.000000   46.000000   46.000000  \n",
       "mean    12.702174   18.019565    8.328261  \n",
       "std      2.650659    3.800855    3.095995  \n",
       "min      5.400000    8.800000    1.100000  \n",
       "25%     10.875000   15.400000    5.550000  \n",
       "50%     12.750000   17.650000    8.650000  \n",
       "75%     14.300000   20.250000   10.625000  \n",
       "max     19.400000   27.600000   14.800000  "
      ]
     },
     "execution_count": 26,
     "metadata": {},
     "output_type": "execute_result"
    }
   ],
   "source": [
    "weather.describe()"
   ]
  },
  {
   "cell_type": "code",
   "execution_count": 27,
   "id": "138b21bf",
   "metadata": {},
   "outputs": [
    {
     "data": {
      "text/plain": [
       "YEAR                0\n",
       "PRECIP_mm           0\n",
       "SUNSHINE_hrs        0\n",
       "CLOUD_hrs           0\n",
       "ATMOS_PRESS_mbar    0\n",
       "AVG_TEMP_C          0\n",
       "MAX_TEMP_C          0\n",
       "MIN_TEMP_C          0\n",
       "dtype: int64"
      ]
     },
     "execution_count": 27,
     "metadata": {},
     "output_type": "execute_result"
    }
   ],
   "source": [
    "weather.isnull().sum()"
   ]
  },
  {
   "cell_type": "code",
   "execution_count": 28,
   "id": "14d09645",
   "metadata": {},
   "outputs": [
    {
     "name": "stdout",
     "output_type": "stream",
     "text": [
      "<class 'pandas.core.frame.DataFrame'>\n",
      "RangeIndex: 46 entries, 0 to 45\n",
      "Data columns (total 8 columns):\n",
      " #   Column            Non-Null Count  Dtype  \n",
      "---  ------            --------------  -----  \n",
      " 0   YEAR              46 non-null     int64  \n",
      " 1   PRECIP_mm         46 non-null     float64\n",
      " 2   SUNSHINE_hrs      46 non-null     float64\n",
      " 3   CLOUD_hrs         46 non-null     float64\n",
      " 4   ATMOS_PRESS_mbar  46 non-null     float64\n",
      " 5   AVG_TEMP_C        46 non-null     float64\n",
      " 6   MAX_TEMP_C        46 non-null     float64\n",
      " 7   MIN_TEMP_C        46 non-null     float64\n",
      "dtypes: float64(7), int64(1)\n",
      "memory usage: 3.0 KB\n"
     ]
    }
   ],
   "source": [
    "weather.info()"
   ]
  },
  {
   "cell_type": "markdown",
   "id": "65704d5f",
   "metadata": {},
   "source": [
    "# Merge and initial analysis"
   ]
  },
  {
   "cell_type": "code",
   "execution_count": 29,
   "id": "be77605e",
   "metadata": {},
   "outputs": [],
   "source": [
    "data_merged = runners.merge(weather, how='right', on='YEAR')"
   ]
  },
  {
   "cell_type": "code",
   "execution_count": 30,
   "id": "16cf9b56",
   "metadata": {},
   "outputs": [],
   "source": [
    "data_merged['TIME'] = pd.to_datetime(data_merged['TIME'])"
   ]
  },
  {
   "cell_type": "code",
   "execution_count": 31,
   "id": "239fd525",
   "metadata": {},
   "outputs": [
    {
     "data": {
      "text/html": [
       "<div>\n",
       "<style scoped>\n",
       "    .dataframe tbody tr th:only-of-type {\n",
       "        vertical-align: middle;\n",
       "    }\n",
       "\n",
       "    .dataframe tbody tr th {\n",
       "        vertical-align: top;\n",
       "    }\n",
       "\n",
       "    .dataframe thead th {\n",
       "        text-align: right;\n",
       "    }\n",
       "</style>\n",
       "<table border=\"1\" class=\"dataframe\">\n",
       "  <thead>\n",
       "    <tr style=\"text-align: right;\">\n",
       "      <th></th>\n",
       "      <th>YEAR</th>\n",
       "      <th>GENDER</th>\n",
       "      <th>AGE</th>\n",
       "      <th>TIME</th>\n",
       "      <th>TIME_IN_SEC</th>\n",
       "      <th>PRECIP_mm</th>\n",
       "      <th>SUNSHINE_hrs</th>\n",
       "      <th>CLOUD_hrs</th>\n",
       "      <th>ATMOS_PRESS_mbar</th>\n",
       "      <th>AVG_TEMP_C</th>\n",
       "      <th>MAX_TEMP_C</th>\n",
       "      <th>MIN_TEMP_C</th>\n",
       "    </tr>\n",
       "  </thead>\n",
       "  <tbody>\n",
       "    <tr>\n",
       "      <th>816896</th>\n",
       "      <td>2018</td>\n",
       "      <td>1.0</td>\n",
       "      <td>35.0</td>\n",
       "      <td>1900-01-01 03:29:59</td>\n",
       "      <td>12599.0</td>\n",
       "      <td>0.0</td>\n",
       "      <td>7.75</td>\n",
       "      <td>5.6</td>\n",
       "      <td>1013.82</td>\n",
       "      <td>14.9</td>\n",
       "      <td>22.4</td>\n",
       "      <td>9.0</td>\n",
       "    </tr>\n",
       "    <tr>\n",
       "      <th>103521</th>\n",
       "      <td>1991</td>\n",
       "      <td>1.0</td>\n",
       "      <td>30.0</td>\n",
       "      <td>1900-01-01 03:24:00</td>\n",
       "      <td>12240.0</td>\n",
       "      <td>0.0</td>\n",
       "      <td>0.90</td>\n",
       "      <td>7.3</td>\n",
       "      <td>994.90</td>\n",
       "      <td>14.4</td>\n",
       "      <td>18.2</td>\n",
       "      <td>8.4</td>\n",
       "    </tr>\n",
       "    <tr>\n",
       "      <th>692174</th>\n",
       "      <td>2014</td>\n",
       "      <td>1.0</td>\n",
       "      <td>45.0</td>\n",
       "      <td>1900-01-01 04:41:49</td>\n",
       "      <td>16909.0</td>\n",
       "      <td>0.0</td>\n",
       "      <td>9.78</td>\n",
       "      <td>4.5</td>\n",
       "      <td>1016.39</td>\n",
       "      <td>12.7</td>\n",
       "      <td>21.2</td>\n",
       "      <td>5.1</td>\n",
       "    </tr>\n",
       "    <tr>\n",
       "      <th>202358</th>\n",
       "      <td>1998</td>\n",
       "      <td>1.0</td>\n",
       "      <td>35.0</td>\n",
       "      <td>1900-01-01 03:41:28</td>\n",
       "      <td>13288.0</td>\n",
       "      <td>0.0</td>\n",
       "      <td>9.90</td>\n",
       "      <td>1.0</td>\n",
       "      <td>1026.80</td>\n",
       "      <td>13.8</td>\n",
       "      <td>19.8</td>\n",
       "      <td>10.3</td>\n",
       "    </tr>\n",
       "    <tr>\n",
       "      <th>330994</th>\n",
       "      <td>2003</td>\n",
       "      <td>1.0</td>\n",
       "      <td>45.0</td>\n",
       "      <td>1900-01-01 04:26:16</td>\n",
       "      <td>15976.0</td>\n",
       "      <td>9.8</td>\n",
       "      <td>7.40</td>\n",
       "      <td>4.3</td>\n",
       "      <td>1005.90</td>\n",
       "      <td>12.0</td>\n",
       "      <td>18.7</td>\n",
       "      <td>4.4</td>\n",
       "    </tr>\n",
       "  </tbody>\n",
       "</table>\n",
       "</div>"
      ],
      "text/plain": [
       "        YEAR  GENDER   AGE                TIME  TIME_IN_SEC  PRECIP_mm  \\\n",
       "816896  2018     1.0  35.0 1900-01-01 03:29:59      12599.0        0.0   \n",
       "103521  1991     1.0  30.0 1900-01-01 03:24:00      12240.0        0.0   \n",
       "692174  2014     1.0  45.0 1900-01-01 04:41:49      16909.0        0.0   \n",
       "202358  1998     1.0  35.0 1900-01-01 03:41:28      13288.0        0.0   \n",
       "330994  2003     1.0  45.0 1900-01-01 04:26:16      15976.0        9.8   \n",
       "\n",
       "        SUNSHINE_hrs  CLOUD_hrs  ATMOS_PRESS_mbar  AVG_TEMP_C  MAX_TEMP_C  \\\n",
       "816896          7.75        5.6           1013.82        14.9        22.4   \n",
       "103521          0.90        7.3            994.90        14.4        18.2   \n",
       "692174          9.78        4.5           1016.39        12.7        21.2   \n",
       "202358          9.90        1.0           1026.80        13.8        19.8   \n",
       "330994          7.40        4.3           1005.90        12.0        18.7   \n",
       "\n",
       "        MIN_TEMP_C  \n",
       "816896         9.0  \n",
       "103521         8.4  \n",
       "692174         5.1  \n",
       "202358        10.3  \n",
       "330994         4.4  "
      ]
     },
     "execution_count": 31,
     "metadata": {},
     "output_type": "execute_result"
    }
   ],
   "source": [
    "data_merged.sample(5)"
   ]
  },
  {
   "cell_type": "code",
   "execution_count": 32,
   "id": "580714af",
   "metadata": {},
   "outputs": [
    {
     "data": {
      "image/png": "[encoded data removed]",
      "text/plain": [
       "<Figure size 640x480 with 1 Axes>"
      ]
     },
     "metadata": {},
     "output_type": "display_data"
    }
   ],
   "source": [
    "sns.lineplot(data=data_merged,x='YEAR',y='AVG_TEMP_C',color='black',label='Average temp.')\n",
    "sns.lineplot(data=data_merged,x='YEAR',y='MAX_TEMP_C',color='red',label='Max temp.')\n",
    "sns.lineplot(data=data_merged,x='YEAR',y='MIN_TEMP_C',color='blue',label='Min temp.')\n",
    "plt.legend()\n",
    "plt.show()"
   ]
  },
  {
   "cell_type": "code",
   "execution_count": 33,
   "id": "9c9f0d59",
   "metadata": {},
   "outputs": [
    {
     "data": {
      "text/html": [
       "<div>\n",
       "<style scoped>\n",
       "    .dataframe tbody tr th:only-of-type {\n",
       "        vertical-align: middle;\n",
       "    }\n",
       "\n",
       "    .dataframe tbody tr th {\n",
       "        vertical-align: top;\n",
       "    }\n",
       "\n",
       "    .dataframe thead th {\n",
       "        text-align: right;\n",
       "    }\n",
       "</style>\n",
       "<table border=\"1\" class=\"dataframe\">\n",
       "  <thead>\n",
       "    <tr style=\"text-align: right;\">\n",
       "      <th></th>\n",
       "      <th>YEAR</th>\n",
       "      <th>GENDER</th>\n",
       "      <th>AGE</th>\n",
       "      <th>TIME_IN_SEC</th>\n",
       "      <th>PRECIP_mm</th>\n",
       "      <th>SUNSHINE_hrs</th>\n",
       "      <th>CLOUD_hrs</th>\n",
       "      <th>ATMOS_PRESS_mbar</th>\n",
       "      <th>AVG_TEMP_C</th>\n",
       "      <th>MAX_TEMP_C</th>\n",
       "      <th>MIN_TEMP_C</th>\n",
       "    </tr>\n",
       "  </thead>\n",
       "  <tbody>\n",
       "    <tr>\n",
       "      <th>YEAR</th>\n",
       "      <td>1.000000</td>\n",
       "      <td>-0.135509</td>\n",
       "      <td>0.196425</td>\n",
       "      <td>0.254982</td>\n",
       "      <td>0.079607</td>\n",
       "      <td>0.238709</td>\n",
       "      <td>-0.092052</td>\n",
       "      <td>0.047191</td>\n",
       "      <td>0.009612</td>\n",
       "      <td>0.128642</td>\n",
       "      <td>-0.055007</td>\n",
       "    </tr>\n",
       "    <tr>\n",
       "      <th>GENDER</th>\n",
       "      <td>-0.135509</td>\n",
       "      <td>1.000000</td>\n",
       "      <td>0.041495</td>\n",
       "      <td>-0.265583</td>\n",
       "      <td>0.011084</td>\n",
       "      <td>-0.070591</td>\n",
       "      <td>0.033051</td>\n",
       "      <td>-0.064200</td>\n",
       "      <td>0.005700</td>\n",
       "      <td>-0.036272</td>\n",
       "      <td>0.032098</td>\n",
       "    </tr>\n",
       "    <tr>\n",
       "      <th>AGE</th>\n",
       "      <td>0.196425</td>\n",
       "      <td>0.041495</td>\n",
       "      <td>1.000000</td>\n",
       "      <td>0.172136</td>\n",
       "      <td>0.016399</td>\n",
       "      <td>0.050062</td>\n",
       "      <td>-0.031264</td>\n",
       "      <td>0.006091</td>\n",
       "      <td>0.006495</td>\n",
       "      <td>0.030557</td>\n",
       "      <td>-0.006227</td>\n",
       "    </tr>\n",
       "    <tr>\n",
       "      <th>TIME_IN_SEC</th>\n",
       "      <td>0.254982</td>\n",
       "      <td>-0.265583</td>\n",
       "      <td>0.172136</td>\n",
       "      <td>1.000000</td>\n",
       "      <td>0.001103</td>\n",
       "      <td>0.109406</td>\n",
       "      <td>-0.069242</td>\n",
       "      <td>0.034093</td>\n",
       "      <td>0.083206</td>\n",
       "      <td>0.118777</td>\n",
       "      <td>0.035677</td>\n",
       "    </tr>\n",
       "    <tr>\n",
       "      <th>PRECIP_mm</th>\n",
       "      <td>0.079607</td>\n",
       "      <td>0.011084</td>\n",
       "      <td>0.016399</td>\n",
       "      <td>0.001103</td>\n",
       "      <td>1.000000</td>\n",
       "      <td>-0.376328</td>\n",
       "      <td>0.356465</td>\n",
       "      <td>-0.506288</td>\n",
       "      <td>-0.227994</td>\n",
       "      <td>-0.452276</td>\n",
       "      <td>0.046277</td>\n",
       "    </tr>\n",
       "    <tr>\n",
       "      <th>SUNSHINE_hrs</th>\n",
       "      <td>0.238709</td>\n",
       "      <td>-0.070591</td>\n",
       "      <td>0.050062</td>\n",
       "      <td>0.109406</td>\n",
       "      <td>-0.376328</td>\n",
       "      <td>1.000000</td>\n",
       "      <td>-0.880759</td>\n",
       "      <td>0.429150</td>\n",
       "      <td>0.066570</td>\n",
       "      <td>0.655116</td>\n",
       "      <td>-0.466513</td>\n",
       "    </tr>\n",
       "    <tr>\n",
       "      <th>CLOUD_hrs</th>\n",
       "      <td>-0.092052</td>\n",
       "      <td>0.033051</td>\n",
       "      <td>-0.031264</td>\n",
       "      <td>-0.069242</td>\n",
       "      <td>0.356465</td>\n",
       "      <td>-0.880759</td>\n",
       "      <td>1.000000</td>\n",
       "      <td>-0.329067</td>\n",
       "      <td>-0.015837</td>\n",
       "      <td>-0.530441</td>\n",
       "      <td>0.441984</td>\n",
       "    </tr>\n",
       "    <tr>\n",
       "      <th>ATMOS_PRESS_mbar</th>\n",
       "      <td>0.047191</td>\n",
       "      <td>-0.064200</td>\n",
       "      <td>0.006091</td>\n",
       "      <td>0.034093</td>\n",
       "      <td>-0.506288</td>\n",
       "      <td>0.429150</td>\n",
       "      <td>-0.329067</td>\n",
       "      <td>1.000000</td>\n",
       "      <td>-0.198904</td>\n",
       "      <td>0.157810</td>\n",
       "      <td>-0.269236</td>\n",
       "    </tr>\n",
       "    <tr>\n",
       "      <th>AVG_TEMP_C</th>\n",
       "      <td>0.009612</td>\n",
       "      <td>0.005700</td>\n",
       "      <td>0.006495</td>\n",
       "      <td>0.083206</td>\n",
       "      <td>-0.227994</td>\n",
       "      <td>0.066570</td>\n",
       "      <td>-0.015837</td>\n",
       "      <td>-0.198904</td>\n",
       "      <td>1.000000</td>\n",
       "      <td>0.758759</td>\n",
       "      <td>0.697058</td>\n",
       "    </tr>\n",
       "    <tr>\n",
       "      <th>MAX_TEMP_C</th>\n",
       "      <td>0.128642</td>\n",
       "      <td>-0.036272</td>\n",
       "      <td>0.030557</td>\n",
       "      <td>0.118777</td>\n",
       "      <td>-0.452276</td>\n",
       "      <td>0.655116</td>\n",
       "      <td>-0.530441</td>\n",
       "      <td>0.157810</td>\n",
       "      <td>0.758759</td>\n",
       "      <td>1.000000</td>\n",
       "      <td>0.161231</td>\n",
       "    </tr>\n",
       "    <tr>\n",
       "      <th>MIN_TEMP_C</th>\n",
       "      <td>-0.055007</td>\n",
       "      <td>0.032098</td>\n",
       "      <td>-0.006227</td>\n",
       "      <td>0.035677</td>\n",
       "      <td>0.046277</td>\n",
       "      <td>-0.466513</td>\n",
       "      <td>0.441984</td>\n",
       "      <td>-0.269236</td>\n",
       "      <td>0.697058</td>\n",
       "      <td>0.161231</td>\n",
       "      <td>1.000000</td>\n",
       "    </tr>\n",
       "  </tbody>\n",
       "</table>\n",
       "</div>"
      ],
      "text/plain": [
       "                      YEAR    GENDER       AGE  TIME_IN_SEC  PRECIP_mm  \\\n",
       "YEAR              1.000000 -0.135509  0.196425     0.254982   0.079607   \n",
       "GENDER           -0.135509  1.000000  0.041495    -0.265583   0.011084   \n",
       "AGE               0.196425  0.041495  1.000000     0.172136   0.016399   \n",
       "TIME_IN_SEC       0.254982 -0.265583  0.172136     1.000000   0.001103   \n",
       "PRECIP_mm         0.079607  0.011084  0.016399     0.001103   1.000000   \n",
       "SUNSHINE_hrs      0.238709 -0.070591  0.050062     0.109406  -0.376328   \n",
       "CLOUD_hrs        -0.092052  0.033051 -0.031264    -0.069242   0.356465   \n",
       "ATMOS_PRESS_mbar  0.047191 -0.064200  0.006091     0.034093  -0.506288   \n",
       "AVG_TEMP_C        0.009612  0.005700  0.006495     0.083206  -0.227994   \n",
       "MAX_TEMP_C        0.128642 -0.036272  0.030557     0.118777  -0.452276   \n",
       "MIN_TEMP_C       -0.055007  0.032098 -0.006227     0.035677   0.046277   \n",
       "\n",
       "                  SUNSHINE_hrs  CLOUD_hrs  ATMOS_PRESS_mbar  AVG_TEMP_C  \\\n",
       "YEAR                  0.238709  -0.092052          0.047191    0.009612   \n",
       "GENDER               -0.070591   0.033051         -0.064200    0.005700   \n",
       "AGE                   0.050062  -0.031264          0.006091    0.006495   \n",
       "TIME_IN_SEC           0.109406  -0.069242          0.034093    0.083206   \n",
       "PRECIP_mm            -0.376328   0.356465         -0.506288   -0.227994   \n",
       "SUNSHINE_hrs          1.000000  -0.880759          0.429150    0.066570   \n",
       "CLOUD_hrs            -0.880759   1.000000         -0.329067   -0.015837   \n",
       "ATMOS_PRESS_mbar      0.429150  -0.329067          1.000000   -0.198904   \n",
       "AVG_TEMP_C            0.066570  -0.015837         -0.198904    1.000000   \n",
       "MAX_TEMP_C            0.655116  -0.530441          0.157810    0.758759   \n",
       "MIN_TEMP_C           -0.466513   0.441984         -0.269236    0.697058   \n",
       "\n",
       "                  MAX_TEMP_C  MIN_TEMP_C  \n",
       "YEAR                0.128642   -0.055007  \n",
       "GENDER             -0.036272    0.032098  \n",
       "AGE                 0.030557   -0.006227  \n",
       "TIME_IN_SEC         0.118777    0.035677  \n",
       "PRECIP_mm          -0.452276    0.046277  \n",
       "SUNSHINE_hrs        0.655116   -0.466513  \n",
       "CLOUD_hrs          -0.530441    0.441984  \n",
       "ATMOS_PRESS_mbar    0.157810   -0.269236  \n",
       "AVG_TEMP_C          0.758759    0.697058  \n",
       "MAX_TEMP_C          1.000000    0.161231  \n",
       "MIN_TEMP_C          0.161231    1.000000  "
      ]
     },
     "execution_count": 33,
     "metadata": {},
     "output_type": "execute_result"
    }
   ],
   "source": [
    "data_merged.corr()"
   ]
  },
  {
   "cell_type": "code",
   "execution_count": 34,
   "id": "515d8198",
   "metadata": {},
   "outputs": [
    {
     "data": {
      "text/plain": [
       "<AxesSubplot:xlabel='AVG_TEMP_C', ylabel='TIME_IN_SEC'>"
      ]
     },
     "execution_count": 34,
     "metadata": {},
     "output_type": "execute_result"
    },
    {
     "data": {
      "image/png": "[encoded data removed]",
      "text/plain": [
       "<Figure size 640x480 with 1 Axes>"
      ]
     },
     "metadata": {},
     "output_type": "display_data"
    }
   ],
   "source": [
    "sns.scatterplot(data=data_merged, x='AVG_TEMP_C',y='TIME_IN_SEC',hue='GENDER', palette = 'Dark2')"
   ]
  },
  {
   "cell_type": "code",
   "execution_count": null,
   "id": "f2620280",
   "metadata": {},
   "outputs": [],
   "source": [
    "sns.lineplot(data=data_merged, x='SUNSHINE_hrs',y='TIME_IN_SEC')"
   ]
  },
  {
   "cell_type": "code",
   "execution_count": null,
   "id": "d8438fcb",
   "metadata": {},
   "outputs": [],
   "source": [
    "sns.lineplot(data=data_merged, x='AGE',y='TIME_IN_SEC')"
   ]
  },
  {
   "cell_type": "markdown",
   "id": "03f77978",
   "metadata": {},
   "source": [
    "As we can see, AVG_TEMP_C impacts results of runners"
   ]
  },
  {
   "cell_type": "code",
   "execution_count": null,
   "id": "5584bab9",
   "metadata": {},
   "outputs": [],
   "source": [
    "#f, ax = plt.subplots(figsize=(9, 6))\n",
    "#sns.heatmap(data=data_merged.drop('TIME',axis=1), annot=True)"
   ]
  },
  {
   "cell_type": "code",
   "execution_count": null,
   "id": "134196ab",
   "metadata": {},
   "outputs": [],
   "source": [
    "data_merged.info()"
   ]
  },
  {
   "cell_type": "markdown",
   "id": "54b19bfa",
   "metadata": {},
   "source": [
    "# Regression models"
   ]
  },
  {
   "cell_type": "markdown",
   "id": "92ac2007",
   "metadata": {},
   "source": [
    "Data split"
   ]
  },
  {
   "cell_type": "code",
   "execution_count": null,
   "id": "e88c1c22",
   "metadata": {},
   "outputs": [],
   "source": [
    "data_merged = data_merged.dropna()"
   ]
  },
  {
   "cell_type": "code",
   "execution_count": null,
   "id": "974543bb",
   "metadata": {
    "scrolled": true
   },
   "outputs": [],
   "source": [
    "data_merged.isnull().sum()"
   ]
  },
  {
   "cell_type": "code",
   "execution_count": null,
   "id": "da81b348",
   "metadata": {},
   "outputs": [],
   "source": [
    "data_merged = data_merged.reset_index()"
   ]
  },
  {
   "cell_type": "code",
   "execution_count": null,
   "id": "8543e132",
   "metadata": {},
   "outputs": [],
   "source": [
    "from sklearn.model_selection import train_test_split\n",
    "\n",
    "X = data_merged.drop(['TIME','TIME_IN_SEC'],axis =1)\n",
    "y = data_merged['TIME_IN_SEC']\n",
    "X_train, X_test, y_train, y_test = train_test_split(X, y, test_size=0.30, random_state=42)"
   ]
  },
  {
   "cell_type": "code",
   "execution_count": null,
   "id": "5fd3c47d",
   "metadata": {},
   "outputs": [],
   "source": [
    "from sklearn.ensemble import RandomForestRegressor\n",
    "\n",
    "RFR = RandomForestRegressor()"
   ]
  },
  {
   "cell_type": "code",
   "execution_count": null,
   "id": "6a71bba6",
   "metadata": {},
   "outputs": [],
   "source": [
    "n_estimators = [int(x) for x in np.linspace(start = 3, stop = 10, num = 1)]\n",
    "max_depth = [int(x) for x in np.linspace(1,10,num =1)]\n",
    "max_features = ['auto','sqrt']\n",
    "min_samples_leaf = [int(x) for x in list(range(1,8))]\n",
    "min_samples_split = [int(x) for x in list(range(2,10))]\n",
    "bootstrap = [True,False]\n",
    "             \n",
    "random_grid = {'n_estimators':n_estimators,\n",
    "               'max_depth':max_depth,\n",
    "               'max_features':max_features,\n",
    "               'min_samples_leaf':min_samples_leaf,\n",
    "               'min_samples_split':min_samples_split,\n",
    "               'bootstrap':bootstrap}"
   ]
  },
  {
   "cell_type": "code",
   "execution_count": null,
   "id": "06465790",
   "metadata": {
    "scrolled": true
   },
   "outputs": [],
   "source": [
    "from sklearn.model_selection import RandomizedSearchCV\n",
    "\n",
    "RFR_adj = RandomizedSearchCV(estimator = RFR, param_distributions = random_grid, n_iter = 5, cv = 3, verbose = 2, random_state = 42, n_jobs = -1)\n",
    "\n",
    "RFR_adj.fit(X_train,y_train)"
   ]
  },
  {
   "cell_type": "code",
   "execution_count": null,
   "id": "06f6be62",
   "metadata": {},
   "outputs": [],
   "source": [
    "RFR_adj.best_params_"
   ]
  },
  {
   "cell_type": "code",
   "execution_count": null,
   "id": "b7c5a99c",
   "metadata": {},
   "outputs": [],
   "source": [
    "RFR_fited = RandomForestRegressor(n_estimators = 3, min_samples_split = 6, min_samples_leaf = 4, max_features = 'sqrt', \n",
    "                                  max_depth = 1, bootstrap = True)\n",
    "RFR_fited.fit(X_train,y_train)"
   ]
  },
  {
   "cell_type": "code",
   "execution_count": null,
   "id": "e166cb56",
   "metadata": {},
   "outputs": [],
   "source": [
    "RFR_fited.score(X_train,y_train)"
   ]
  },
  {
   "cell_type": "code",
   "execution_count": null,
   "id": "38f5c562",
   "metadata": {
    "scrolled": true
   },
   "outputs": [],
   "source": [
    "RFR_fited.score(X_test,y_test)"
   ]
  },
  {
   "cell_type": "markdown",
   "id": "3762d1e8",
   "metadata": {},
   "source": [
    "Summing up, weather conditions have some impact on results of competitors, however it is not significant. Age and gender are crucial variables when it comes to impact on the result. It is worth noticing that the greatest results were acomplished when avg. temp. fluctuated between 10 and 17 degrees."
   ]
  }
 ],
 "metadata": {
  "kernelspec": {
   "display_name": "Python 3 (ipykernel)",
   "language": "python",
   "name": "python3"
  },
  "language_info": {
   "codemirror_mode": {
    "name": "ipython",
    "version": 3
   },
   "file_extension": ".py",
   "mimetype": "text/x-python",
   "name": "python",
   "nbconvert_exporter": "python",
   "pygments_lexer": "ipython3",
   "version": "3.9.18"
  }
 },
 "nbformat": 4,
 "nbformat_minor": 5
}
